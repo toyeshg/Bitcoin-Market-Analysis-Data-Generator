{
  "nbformat": 4,
  "nbformat_minor": 0,
  "metadata": {
    "colab": {
      "provenance": []
    },
    "kernelspec": {
      "name": "python3",
      "display_name": "Python 3"
    },
    "language_info": {
      "name": "python"
    }
  },
  "cells": [
    {
      "cell_type": "code",
      "source": [
        "import pandas as pd\n",
        "import numpy as np"
      ],
      "metadata": {
        "id": "-PR34CsCI4td"
      },
      "execution_count": null,
      "outputs": []
    },
    {
      "cell_type": "code",
      "execution_count": null,
      "metadata": {
        "id": "JDRNn75owt1N"
      },
      "outputs": [],
      "source": [
        "import requests\n",
        "headers = {\n",
        "  'Accept': 'application/json'\n",
        "}\n",
        "\n",
        "r = requests.get('https://api.delta.exchange/v2/l2orderbook/BTCUSDT', params={\n",
        "\n",
        "}, headers = headers)\n",
        "\n",
        "x=(r.json())"
      ]
    },
    {
      "cell_type": "code",
      "source": [
        "print(x)"
      ],
      "metadata": {
        "colab": {
          "base_uri": "https://localhost:8080/"
        },
        "id": "iLdozhsEFfxi",
        "outputId": "b8ab49eb-acfa-4027-e00d-95312eaa7f99"
      },
      "execution_count": null,
      "outputs": [
        {
          "output_type": "stream",
          "name": "stdout",
          "text": [
            "{'result': {'buy': [{'depth': '254', 'price': '66573.0', 'size': 254}, {'depth': '501', 'price': '66572.5', 'size': 247}, {'depth': '835', 'price': '66572.0', 'size': 334}, {'depth': '1242', 'price': '66571.5', 'size': 407}, {'depth': '1778', 'price': '66571.0', 'size': 536}, {'depth': '2225', 'price': '66570.5', 'size': 447}, {'depth': '3069', 'price': '66570.0', 'size': 844}, {'depth': '4521', 'price': '66569.5', 'size': 1452}, {'depth': '6519', 'price': '66569.0', 'size': 1998}, {'depth': '9283', 'price': '66568.5', 'size': 2764}, {'depth': '12616', 'price': '66568.0', 'size': 3333}, {'depth': '17164', 'price': '66567.5', 'size': 4548}, {'depth': '22849', 'price': '66565.0', 'size': 5685}, {'depth': '23055', 'price': '66561.5', 'size': 206}, {'depth': '3.015E+4', 'price': '66559.5', 'size': 7095}, {'depth': '39692', 'price': '66550.0', 'size': 9542}, {'depth': '51907', 'price': '66536.5', 'size': 12215}, {'depth': '67545', 'price': '66513.0', 'size': 15638}, {'depth': '87565', 'price': '66473.5', 'size': 20020}, {'depth': '113195', 'price': '66411.0', 'size': 25630}, {'depth': '1.132E+5', 'price': '66410.0', 'size': 5}, {'depth': '1.5817E+5', 'price': '66307.5', 'size': 44970}, {'depth': '158171', 'price': '66300.0', 'size': 1}, {'depth': '158176', 'price': '66250.0', 'size': 5}, {'depth': '158196', 'price': '66150.0', 'size': 20}, {'depth': '158198', 'price': '66124.0', 'size': 2}, {'depth': '158204', 'price': '66000.0', 'size': 6}, {'depth': '158729', 'price': '65560.0', 'size': 525}, {'depth': '1.5873E+5', 'price': '65500.0', 'size': 1}, {'depth': '158754', 'price': '65200.0', 'size': 24}, {'depth': '158756', 'price': '65100.0', 'size': 2}, {'depth': '158766', 'price': '65032.0', 'size': 10}, {'depth': '158767', 'price': '65000.0', 'size': 1}, {'depth': '158967', 'price': '64882.0', 'size': 200}, {'depth': '158968', 'price': '64829.5', 'size': 1}, {'depth': '158976', 'price': '64595.0', 'size': 8}, {'depth': '158979', 'price': '64500.0', 'size': 3}, {'depth': '1.5898E+5', 'price': '64485.5', 'size': 1}, {'depth': '1.5918E+5', 'price': '64450.0', 'size': 200}, {'depth': '159182', 'price': '64313.0', 'size': 2}, {'depth': '159212', 'price': '64100.0', 'size': 30}, {'depth': '1.5923E+5', 'price': '64000.0', 'size': 18}, {'depth': '159231', 'price': '63700.0', 'size': 1}, {'depth': '159292', 'price': '63644.0', 'size': 61}, {'depth': '159293', 'price': '63500.0', 'size': 1}, {'depth': '159342', 'price': '63000.0', 'size': 49}, {'depth': '159362', 'price': '62600.0', 'size': 20}, {'depth': '159365', 'price': '62551.0', 'size': 3}, {'depth': '159373', 'price': '62550.0', 'size': 8}, {'depth': '1.5962E+5', 'price': '62500.0', 'size': 247}, {'depth': '1.5972E+5', 'price': '62400.0', 'size': 100}, {'depth': '159721', 'price': '62290.0', 'size': 1}, {'depth': '159722', 'price': '62269.0', 'size': 1}, {'depth': '159815', 'price': '62000.0', 'size': 93}, {'depth': '159818', 'price': '61618.5', 'size': 3}, {'depth': '159826', 'price': '61445.0', 'size': 8}, {'depth': '159828', 'price': '60521.0', 'size': 2}, {'depth': '159908', 'price': '60500.0', 'size': 80}, {'depth': '159909', 'price': '60256.0', 'size': 1}, {'depth': '159944', 'price': '60000.0', 'size': 35}, {'depth': '159958', 'price': '59700.0', 'size': 14}, {'depth': '1.5996E+5', 'price': '59310.5', 'size': 2}, {'depth': '159981', 'price': '59000.0', 'size': 21}, {'depth': '159982', 'price': '58459.0', 'size': 1}, {'depth': '1.5999E+5', 'price': '58400.0', 'size': 8}, {'depth': '159991', 'price': '58213.0', 'size': 1}, {'depth': '159992', 'price': '58206.0', 'size': 1}, {'depth': '159993', 'price': '58200.0', 'size': 1}, {'depth': '159994', 'price': '58175.0', 'size': 1}, {'depth': '160044', 'price': '57500.0', 'size': 50}, {'depth': '160094', 'price': '56500.0', 'size': 50}, {'depth': '160104', 'price': '56101.0', 'size': 10}, {'depth': '160109', 'price': '56000.0', 'size': 5}, {'depth': '1.6011E+5', 'price': '55550.0', 'size': 1}, {'depth': '160111', 'price': '55506.0', 'size': 1}, {'depth': '160336', 'price': '55000.0', 'size': 225}, {'depth': '160436', 'price': '53900.0', 'size': 100}, {'depth': '160437', 'price': '53506.0', 'size': 1}, {'depth': '160438', 'price': '53290.0', 'size': 1}, {'depth': '160439', 'price': '53265.5', 'size': 1}, {'depth': '160442', 'price': '53241.5', 'size': 3}, {'depth': '160445', 'price': '53160.5', 'size': 3}, {'depth': '160446', 'price': '53135.0', 'size': 1}, {'depth': '160447', 'price': '53100.0', 'size': 1}, {'depth': '160448', 'price': '53050.0', 'size': 1}, {'depth': '160466', 'price': '53000.0', 'size': 18}, {'depth': '160467', 'price': '52500.0', 'size': 1}, {'depth': '160469', 'price': '52300.0', 'size': 2}, {'depth': '160479', 'price': '52238.5', 'size': 10}, {'depth': '1.6048E+5', 'price': '52200.0', 'size': 1}, {'depth': '160481', 'price': '52110.0', 'size': 1}, {'depth': '160482', 'price': '52000.0', 'size': 1}, {'depth': '160484', 'price': '51505.5', 'size': 2}, {'depth': '160487', 'price': '51250.0', 'size': 3}, {'depth': '160492', 'price': '50807.0', 'size': 5}, {'depth': '160522', 'price': '50800.0', 'size': 30}, {'depth': '160523', 'price': '50797.5', 'size': 1}, {'depth': '160535', 'price': '50000.0', 'size': 12}, {'depth': '160549', 'price': '49865.0', 'size': 14}, {'depth': '1.6055E+5', 'price': '49800.0', 'size': 1}, {'depth': '160551', 'price': '49648.5', 'size': 1}, {'depth': '1.6059E+5', 'price': '49500.0', 'size': 39}, {'depth': '160608', 'price': '48931.5', 'size': 18}, {'depth': '160616', 'price': '47405.0', 'size': 8}, {'depth': '160716', 'price': '47000.0', 'size': 100}, {'depth': '1.6072E+5', 'price': '44570.0', 'size': 4}, {'depth': '1.6082E+5', 'price': '42702.5', 'size': 100}, {'depth': '160821', 'price': '36554.5', 'size': 1}, {'depth': '160823', 'price': '35554.5', 'size': 2}, {'depth': '1.6083E+5', 'price': '35000.0', 'size': 7}, {'depth': '160833', 'price': '34373.5', 'size': 3}, {'depth': '160834', 'price': '31927.0', 'size': 1}, {'depth': '160835', 'price': '29417.0', 'size': 1}, {'depth': '160838', 'price': '29321.0', 'size': 3}, {'depth': '160839', 'price': '26484.0', 'size': 1}, {'depth': '1.6084E+5', 'price': '24588.5', 'size': 1}, {'depth': '160846', 'price': '19000.0', 'size': 6}, {'depth': '160847', 'price': '18501.0', 'size': 1}, {'depth': '160852', 'price': '15900.0', 'size': 5}, {'depth': '160853', 'price': '12600.0', 'size': 1}, {'depth': '160855', 'price': '11900.0', 'size': 2}, {'depth': '160858', 'price': '11200.0', 'size': 3}, {'depth': '1.6086E+5', 'price': '10000.0', 'size': 2}, {'depth': '160863', 'price': '7500.0', 'size': 3}, {'depth': '160864', 'price': '6868.0', 'size': 1}, {'depth': '160884', 'price': '6850.5', 'size': 20}, {'depth': '160984', 'price': '6342.0', 'size': 100}, {'depth': '160992', 'price': '5800.0', 'size': 8}, {'depth': '160993', 'price': '4500.0', 'size': 1}, {'depth': '161045', 'price': '1671.0', 'size': 52}, {'depth': '161055', 'price': '500.0', 'size': 10}, {'depth': '161075', 'price': '420.0', 'size': 20}, {'depth': '161085', 'price': '180.5', 'size': 10}, {'depth': '161086', 'price': '159.0', 'size': 1}, {'depth': '161159', 'price': '122.0', 'size': 73}, {'depth': '161161', 'price': '111.0', 'size': 2}, {'depth': '162163', 'price': '100.0', 'size': 1002}, {'depth': '172064', 'price': '95.0', 'size': 9901}, {'depth': '180064', 'price': '90.0', 'size': 8000}, {'depth': '180446', 'price': '70.0', 'size': 382}, {'depth': '180705', 'price': '63.0', 'size': 259}, {'depth': '181704', 'price': '62.0', 'size': 999}, {'depth': '235031', 'price': '60.0', 'size': 53327}, {'depth': '266327', 'price': '50.0', 'size': 31296}, {'depth': '2.6786E+5', 'price': '25.0', 'size': 1533}, {'depth': '269762', 'price': '24.5', 'size': 1902}, {'depth': '276071', 'price': '24.0', 'size': 6309}, {'depth': '366071', 'price': '21.5', 'size': 90000}, {'depth': '367191', 'price': '20.0', 'size': 1120}, {'depth': '367201', 'price': '19.0', 'size': 10}, {'depth': '368201', 'price': '18.0', 'size': 1000}, {'depth': '368233', 'price': '16.5', 'size': 32}, {'depth': '368238', 'price': '15.0', 'size': 5}, {'depth': '368251', 'price': '12.5', 'size': 13}, {'depth': '368257', 'price': '12.0', 'size': 6}, {'depth': '368259', 'price': '11.0', 'size': 2}, {'depth': '3.7533E+5', 'price': '10.5', 'size': 7071}, {'depth': '602658', 'price': '10.0', 'size': 227328}, {'depth': '628099', 'price': '9.0', 'size': 25441}, {'depth': '681576', 'price': '8.0', 'size': 53477}, {'depth': '685537', 'price': '7.0', 'size': 3961}, {'depth': '710765', 'price': '6.5', 'size': 25228}, {'depth': '713789', 'price': '6.0', 'size': 3024}, {'depth': '716141', 'price': '5.5', 'size': 2352}, {'depth': '924641', 'price': '5.0', 'size': 208500}, {'depth': '941386', 'price': '4.5', 'size': 16745}, {'depth': '1033039', 'price': '4.0', 'size': 91653}, {'depth': '1033143', 'price': '3.5', 'size': 104}, {'depth': '1234744', 'price': '3.0', 'size': 201601}, {'depth': '1307128', 'price': '2.0', 'size': 72384}, {'depth': '1380222', 'price': '1.5', 'size': 73094}, {'depth': '1782484', 'price': '1.0', 'size': 402262}, {'depth': '2422879', 'price': '0.5', 'size': 640395}], 'last_updated_at': 1721464117637000, 'sell': [{'depth': '8.6E+2', 'price': '66574.0', 'size': 860}, {'depth': '1881', 'price': '66574.5', 'size': 1021}, {'depth': '3115', 'price': '66575.0', 'size': 1234}, {'depth': '4909', 'price': '66575.5', 'size': 1794}, {'depth': '7327', 'price': '66576.0', 'size': 2418}, {'depth': '10365', 'price': '66576.5', 'size': 3038}, {'depth': '13614', 'price': '66577.0', 'size': 3249}, {'depth': '1.894E+4', 'price': '66577.5', 'size': 5326}, {'depth': '24236', 'price': '66578.0', 'size': 5296}, {'depth': '32865', 'price': '66578.5', 'size': 8629}, {'depth': '52585', 'price': '66579.5', 'size': 19720}, {'depth': '63664', 'price': '66581.0', 'size': 11079}, {'depth': '77718', 'price': '66585.5', 'size': 14054}, {'depth': '96013', 'price': '66593.0', 'size': 18295}, {'depth': '119455', 'price': '66604.5', 'size': 23442}, {'depth': '149465', 'price': '66624.0', 'size': 30010}, {'depth': '187884', 'price': '66656.0', 'size': 38419}, {'depth': '187885', 'price': '66701.0', 'size': 1}, {'depth': '237069', 'price': '66708.0', 'size': 49184}, {'depth': '2.3722E+5', 'price': '66750.0', 'size': 151}, {'depth': '300185', 'price': '66793.5', 'size': 62965}, {'depth': '300195', 'price': '66800.0', 'size': 10}, {'depth': '3.002E+5', 'price': '66850.0', 'size': 5}, {'depth': '300209', 'price': '67000.0', 'size': 9}, {'depth': '300263', 'price': '67500.0', 'size': 54}, {'depth': '300285', 'price': '67750.0', 'size': 22}, {'depth': '300324', 'price': '68000.0', 'size': 39}, {'depth': '300326', 'price': '68024.0', 'size': 2}, {'depth': '300327', 'price': '68140.0', 'size': 1}, {'depth': '300328', 'price': '68250.0', 'size': 1}, {'depth': '300329', 'price': '68400.0', 'size': 1}, {'depth': '300331', 'price': '68500.0', 'size': 2}, {'depth': '300332', 'price': '68750.0', 'size': 1}, {'depth': '300334', 'price': '68800.0', 'size': 2}, {'depth': '300336', 'price': '69000.0', 'size': 2}, {'depth': '300338', 'price': '69800.0', 'size': 2}, {'depth': '3.0144E+5', 'price': '70000.0', 'size': 1102}, {'depth': '301441', 'price': '70128.0', 'size': 1}, {'depth': '301442', 'price': '70500.0', 'size': 1}, {'depth': '301462', 'price': '71000.0', 'size': 20}, {'depth': '301465', 'price': '71500.0', 'size': 3}, {'depth': '301466', 'price': '71777.5', 'size': 1}, {'depth': '301468', 'price': '71854.0', 'size': 2}, {'depth': '301469', 'price': '72000.0', 'size': 1}, {'depth': '3.0147E+5', 'price': '72900.0', 'size': 1}, {'depth': '301471', 'price': '72950.5', 'size': 1}, {'depth': '301479', 'price': '73500.0', 'size': 8}, {'depth': '301497', 'price': '75075.0', 'size': 18}, {'depth': '301498', 'price': '79555.5', 'size': 1}, {'depth': '301959', 'price': '98950.0', 'size': 461}], 'symbol': 'BTCUSDT'}, 'success': True}\n"
          ]
        }
      ]
    },
    {
      "cell_type": "code",
      "source": [
        "x=x.get('result')\n",
        "print(x)"
      ],
      "metadata": {
        "colab": {
          "base_uri": "https://localhost:8080/"
        },
        "id": "E7vN9vmuFhca",
        "outputId": "2b27944e-4212-4612-bc6c-b8fb2873c80b"
      },
      "execution_count": null,
      "outputs": [
        {
          "output_type": "stream",
          "name": "stdout",
          "text": [
            "{'buy': [{'depth': '254', 'price': '66573.0', 'size': 254}, {'depth': '501', 'price': '66572.5', 'size': 247}, {'depth': '835', 'price': '66572.0', 'size': 334}, {'depth': '1242', 'price': '66571.5', 'size': 407}, {'depth': '1778', 'price': '66571.0', 'size': 536}, {'depth': '2225', 'price': '66570.5', 'size': 447}, {'depth': '3069', 'price': '66570.0', 'size': 844}, {'depth': '4521', 'price': '66569.5', 'size': 1452}, {'depth': '6519', 'price': '66569.0', 'size': 1998}, {'depth': '9283', 'price': '66568.5', 'size': 2764}, {'depth': '12616', 'price': '66568.0', 'size': 3333}, {'depth': '17164', 'price': '66567.5', 'size': 4548}, {'depth': '22849', 'price': '66565.0', 'size': 5685}, {'depth': '23055', 'price': '66561.5', 'size': 206}, {'depth': '3.015E+4', 'price': '66559.5', 'size': 7095}, {'depth': '39692', 'price': '66550.0', 'size': 9542}, {'depth': '51907', 'price': '66536.5', 'size': 12215}, {'depth': '67545', 'price': '66513.0', 'size': 15638}, {'depth': '87565', 'price': '66473.5', 'size': 20020}, {'depth': '113195', 'price': '66411.0', 'size': 25630}, {'depth': '1.132E+5', 'price': '66410.0', 'size': 5}, {'depth': '1.5817E+5', 'price': '66307.5', 'size': 44970}, {'depth': '158171', 'price': '66300.0', 'size': 1}, {'depth': '158176', 'price': '66250.0', 'size': 5}, {'depth': '158196', 'price': '66150.0', 'size': 20}, {'depth': '158198', 'price': '66124.0', 'size': 2}, {'depth': '158204', 'price': '66000.0', 'size': 6}, {'depth': '158729', 'price': '65560.0', 'size': 525}, {'depth': '1.5873E+5', 'price': '65500.0', 'size': 1}, {'depth': '158754', 'price': '65200.0', 'size': 24}, {'depth': '158756', 'price': '65100.0', 'size': 2}, {'depth': '158766', 'price': '65032.0', 'size': 10}, {'depth': '158767', 'price': '65000.0', 'size': 1}, {'depth': '158967', 'price': '64882.0', 'size': 200}, {'depth': '158968', 'price': '64829.5', 'size': 1}, {'depth': '158976', 'price': '64595.0', 'size': 8}, {'depth': '158979', 'price': '64500.0', 'size': 3}, {'depth': '1.5898E+5', 'price': '64485.5', 'size': 1}, {'depth': '1.5918E+5', 'price': '64450.0', 'size': 200}, {'depth': '159182', 'price': '64313.0', 'size': 2}, {'depth': '159212', 'price': '64100.0', 'size': 30}, {'depth': '1.5923E+5', 'price': '64000.0', 'size': 18}, {'depth': '159231', 'price': '63700.0', 'size': 1}, {'depth': '159292', 'price': '63644.0', 'size': 61}, {'depth': '159293', 'price': '63500.0', 'size': 1}, {'depth': '159342', 'price': '63000.0', 'size': 49}, {'depth': '159362', 'price': '62600.0', 'size': 20}, {'depth': '159365', 'price': '62551.0', 'size': 3}, {'depth': '159373', 'price': '62550.0', 'size': 8}, {'depth': '1.5962E+5', 'price': '62500.0', 'size': 247}, {'depth': '1.5972E+5', 'price': '62400.0', 'size': 100}, {'depth': '159721', 'price': '62290.0', 'size': 1}, {'depth': '159722', 'price': '62269.0', 'size': 1}, {'depth': '159815', 'price': '62000.0', 'size': 93}, {'depth': '159818', 'price': '61618.5', 'size': 3}, {'depth': '159826', 'price': '61445.0', 'size': 8}, {'depth': '159828', 'price': '60521.0', 'size': 2}, {'depth': '159908', 'price': '60500.0', 'size': 80}, {'depth': '159909', 'price': '60256.0', 'size': 1}, {'depth': '159944', 'price': '60000.0', 'size': 35}, {'depth': '159958', 'price': '59700.0', 'size': 14}, {'depth': '1.5996E+5', 'price': '59310.5', 'size': 2}, {'depth': '159981', 'price': '59000.0', 'size': 21}, {'depth': '159982', 'price': '58459.0', 'size': 1}, {'depth': '1.5999E+5', 'price': '58400.0', 'size': 8}, {'depth': '159991', 'price': '58213.0', 'size': 1}, {'depth': '159992', 'price': '58206.0', 'size': 1}, {'depth': '159993', 'price': '58200.0', 'size': 1}, {'depth': '159994', 'price': '58175.0', 'size': 1}, {'depth': '160044', 'price': '57500.0', 'size': 50}, {'depth': '160094', 'price': '56500.0', 'size': 50}, {'depth': '160104', 'price': '56101.0', 'size': 10}, {'depth': '160109', 'price': '56000.0', 'size': 5}, {'depth': '1.6011E+5', 'price': '55550.0', 'size': 1}, {'depth': '160111', 'price': '55506.0', 'size': 1}, {'depth': '160336', 'price': '55000.0', 'size': 225}, {'depth': '160436', 'price': '53900.0', 'size': 100}, {'depth': '160437', 'price': '53506.0', 'size': 1}, {'depth': '160438', 'price': '53290.0', 'size': 1}, {'depth': '160439', 'price': '53265.5', 'size': 1}, {'depth': '160442', 'price': '53241.5', 'size': 3}, {'depth': '160445', 'price': '53160.5', 'size': 3}, {'depth': '160446', 'price': '53135.0', 'size': 1}, {'depth': '160447', 'price': '53100.0', 'size': 1}, {'depth': '160448', 'price': '53050.0', 'size': 1}, {'depth': '160466', 'price': '53000.0', 'size': 18}, {'depth': '160467', 'price': '52500.0', 'size': 1}, {'depth': '160469', 'price': '52300.0', 'size': 2}, {'depth': '160479', 'price': '52238.5', 'size': 10}, {'depth': '1.6048E+5', 'price': '52200.0', 'size': 1}, {'depth': '160481', 'price': '52110.0', 'size': 1}, {'depth': '160482', 'price': '52000.0', 'size': 1}, {'depth': '160484', 'price': '51505.5', 'size': 2}, {'depth': '160487', 'price': '51250.0', 'size': 3}, {'depth': '160492', 'price': '50807.0', 'size': 5}, {'depth': '160522', 'price': '50800.0', 'size': 30}, {'depth': '160523', 'price': '50797.5', 'size': 1}, {'depth': '160535', 'price': '50000.0', 'size': 12}, {'depth': '160549', 'price': '49865.0', 'size': 14}, {'depth': '1.6055E+5', 'price': '49800.0', 'size': 1}, {'depth': '160551', 'price': '49648.5', 'size': 1}, {'depth': '1.6059E+5', 'price': '49500.0', 'size': 39}, {'depth': '160608', 'price': '48931.5', 'size': 18}, {'depth': '160616', 'price': '47405.0', 'size': 8}, {'depth': '160716', 'price': '47000.0', 'size': 100}, {'depth': '1.6072E+5', 'price': '44570.0', 'size': 4}, {'depth': '1.6082E+5', 'price': '42702.5', 'size': 100}, {'depth': '160821', 'price': '36554.5', 'size': 1}, {'depth': '160823', 'price': '35554.5', 'size': 2}, {'depth': '1.6083E+5', 'price': '35000.0', 'size': 7}, {'depth': '160833', 'price': '34373.5', 'size': 3}, {'depth': '160834', 'price': '31927.0', 'size': 1}, {'depth': '160835', 'price': '29417.0', 'size': 1}, {'depth': '160838', 'price': '29321.0', 'size': 3}, {'depth': '160839', 'price': '26484.0', 'size': 1}, {'depth': '1.6084E+5', 'price': '24588.5', 'size': 1}, {'depth': '160846', 'price': '19000.0', 'size': 6}, {'depth': '160847', 'price': '18501.0', 'size': 1}, {'depth': '160852', 'price': '15900.0', 'size': 5}, {'depth': '160853', 'price': '12600.0', 'size': 1}, {'depth': '160855', 'price': '11900.0', 'size': 2}, {'depth': '160858', 'price': '11200.0', 'size': 3}, {'depth': '1.6086E+5', 'price': '10000.0', 'size': 2}, {'depth': '160863', 'price': '7500.0', 'size': 3}, {'depth': '160864', 'price': '6868.0', 'size': 1}, {'depth': '160884', 'price': '6850.5', 'size': 20}, {'depth': '160984', 'price': '6342.0', 'size': 100}, {'depth': '160992', 'price': '5800.0', 'size': 8}, {'depth': '160993', 'price': '4500.0', 'size': 1}, {'depth': '161045', 'price': '1671.0', 'size': 52}, {'depth': '161055', 'price': '500.0', 'size': 10}, {'depth': '161075', 'price': '420.0', 'size': 20}, {'depth': '161085', 'price': '180.5', 'size': 10}, {'depth': '161086', 'price': '159.0', 'size': 1}, {'depth': '161159', 'price': '122.0', 'size': 73}, {'depth': '161161', 'price': '111.0', 'size': 2}, {'depth': '162163', 'price': '100.0', 'size': 1002}, {'depth': '172064', 'price': '95.0', 'size': 9901}, {'depth': '180064', 'price': '90.0', 'size': 8000}, {'depth': '180446', 'price': '70.0', 'size': 382}, {'depth': '180705', 'price': '63.0', 'size': 259}, {'depth': '181704', 'price': '62.0', 'size': 999}, {'depth': '235031', 'price': '60.0', 'size': 53327}, {'depth': '266327', 'price': '50.0', 'size': 31296}, {'depth': '2.6786E+5', 'price': '25.0', 'size': 1533}, {'depth': '269762', 'price': '24.5', 'size': 1902}, {'depth': '276071', 'price': '24.0', 'size': 6309}, {'depth': '366071', 'price': '21.5', 'size': 90000}, {'depth': '367191', 'price': '20.0', 'size': 1120}, {'depth': '367201', 'price': '19.0', 'size': 10}, {'depth': '368201', 'price': '18.0', 'size': 1000}, {'depth': '368233', 'price': '16.5', 'size': 32}, {'depth': '368238', 'price': '15.0', 'size': 5}, {'depth': '368251', 'price': '12.5', 'size': 13}, {'depth': '368257', 'price': '12.0', 'size': 6}, {'depth': '368259', 'price': '11.0', 'size': 2}, {'depth': '3.7533E+5', 'price': '10.5', 'size': 7071}, {'depth': '602658', 'price': '10.0', 'size': 227328}, {'depth': '628099', 'price': '9.0', 'size': 25441}, {'depth': '681576', 'price': '8.0', 'size': 53477}, {'depth': '685537', 'price': '7.0', 'size': 3961}, {'depth': '710765', 'price': '6.5', 'size': 25228}, {'depth': '713789', 'price': '6.0', 'size': 3024}, {'depth': '716141', 'price': '5.5', 'size': 2352}, {'depth': '924641', 'price': '5.0', 'size': 208500}, {'depth': '941386', 'price': '4.5', 'size': 16745}, {'depth': '1033039', 'price': '4.0', 'size': 91653}, {'depth': '1033143', 'price': '3.5', 'size': 104}, {'depth': '1234744', 'price': '3.0', 'size': 201601}, {'depth': '1307128', 'price': '2.0', 'size': 72384}, {'depth': '1380222', 'price': '1.5', 'size': 73094}, {'depth': '1782484', 'price': '1.0', 'size': 402262}, {'depth': '2422879', 'price': '0.5', 'size': 640395}], 'last_updated_at': 1721464117637000, 'sell': [{'depth': '8.6E+2', 'price': '66574.0', 'size': 860}, {'depth': '1881', 'price': '66574.5', 'size': 1021}, {'depth': '3115', 'price': '66575.0', 'size': 1234}, {'depth': '4909', 'price': '66575.5', 'size': 1794}, {'depth': '7327', 'price': '66576.0', 'size': 2418}, {'depth': '10365', 'price': '66576.5', 'size': 3038}, {'depth': '13614', 'price': '66577.0', 'size': 3249}, {'depth': '1.894E+4', 'price': '66577.5', 'size': 5326}, {'depth': '24236', 'price': '66578.0', 'size': 5296}, {'depth': '32865', 'price': '66578.5', 'size': 8629}, {'depth': '52585', 'price': '66579.5', 'size': 19720}, {'depth': '63664', 'price': '66581.0', 'size': 11079}, {'depth': '77718', 'price': '66585.5', 'size': 14054}, {'depth': '96013', 'price': '66593.0', 'size': 18295}, {'depth': '119455', 'price': '66604.5', 'size': 23442}, {'depth': '149465', 'price': '66624.0', 'size': 30010}, {'depth': '187884', 'price': '66656.0', 'size': 38419}, {'depth': '187885', 'price': '66701.0', 'size': 1}, {'depth': '237069', 'price': '66708.0', 'size': 49184}, {'depth': '2.3722E+5', 'price': '66750.0', 'size': 151}, {'depth': '300185', 'price': '66793.5', 'size': 62965}, {'depth': '300195', 'price': '66800.0', 'size': 10}, {'depth': '3.002E+5', 'price': '66850.0', 'size': 5}, {'depth': '300209', 'price': '67000.0', 'size': 9}, {'depth': '300263', 'price': '67500.0', 'size': 54}, {'depth': '300285', 'price': '67750.0', 'size': 22}, {'depth': '300324', 'price': '68000.0', 'size': 39}, {'depth': '300326', 'price': '68024.0', 'size': 2}, {'depth': '300327', 'price': '68140.0', 'size': 1}, {'depth': '300328', 'price': '68250.0', 'size': 1}, {'depth': '300329', 'price': '68400.0', 'size': 1}, {'depth': '300331', 'price': '68500.0', 'size': 2}, {'depth': '300332', 'price': '68750.0', 'size': 1}, {'depth': '300334', 'price': '68800.0', 'size': 2}, {'depth': '300336', 'price': '69000.0', 'size': 2}, {'depth': '300338', 'price': '69800.0', 'size': 2}, {'depth': '3.0144E+5', 'price': '70000.0', 'size': 1102}, {'depth': '301441', 'price': '70128.0', 'size': 1}, {'depth': '301442', 'price': '70500.0', 'size': 1}, {'depth': '301462', 'price': '71000.0', 'size': 20}, {'depth': '301465', 'price': '71500.0', 'size': 3}, {'depth': '301466', 'price': '71777.5', 'size': 1}, {'depth': '301468', 'price': '71854.0', 'size': 2}, {'depth': '301469', 'price': '72000.0', 'size': 1}, {'depth': '3.0147E+5', 'price': '72900.0', 'size': 1}, {'depth': '301471', 'price': '72950.5', 'size': 1}, {'depth': '301479', 'price': '73500.0', 'size': 8}, {'depth': '301497', 'price': '75075.0', 'size': 18}, {'depth': '301498', 'price': '79555.5', 'size': 1}, {'depth': '301959', 'price': '98950.0', 'size': 461}], 'symbol': 'BTCUSDT'}\n"
          ]
        }
      ]
    },
    {
      "cell_type": "code",
      "source": [
        "print(x.keys())\n",
        "\n",
        "print(x.get('success'))"
      ],
      "metadata": {
        "colab": {
          "base_uri": "https://localhost:8080/"
        },
        "id": "Jo6ozVEnHSih",
        "outputId": "01977fe9-b66e-4f6f-db5b-d0202c9cc604"
      },
      "execution_count": null,
      "outputs": [
        {
          "output_type": "stream",
          "name": "stdout",
          "text": [
            "dict_keys(['buy', 'last_updated_at', 'sell', 'symbol'])\n",
            "None\n"
          ]
        }
      ]
    },
    {
      "cell_type": "code",
      "source": [],
      "metadata": {
        "id": "OGVJiIisGHP-"
      },
      "execution_count": null,
      "outputs": []
    },
    {
      "cell_type": "code",
      "source": [
        "buy_values=x.get('buy')\n",
        "print(buy_values)"
      ],
      "metadata": {
        "colab": {
          "base_uri": "https://localhost:8080/"
        },
        "id": "d2i6u1RsI3fF",
        "outputId": "711af72b-47b0-47f1-d839-802cb3a90dc6"
      },
      "execution_count": null,
      "outputs": [
        {
          "output_type": "stream",
          "name": "stdout",
          "text": [
            "[{'depth': '254', 'price': '66573.0', 'size': 254}, {'depth': '501', 'price': '66572.5', 'size': 247}, {'depth': '835', 'price': '66572.0', 'size': 334}, {'depth': '1242', 'price': '66571.5', 'size': 407}, {'depth': '1778', 'price': '66571.0', 'size': 536}, {'depth': '2225', 'price': '66570.5', 'size': 447}, {'depth': '3069', 'price': '66570.0', 'size': 844}, {'depth': '4521', 'price': '66569.5', 'size': 1452}, {'depth': '6519', 'price': '66569.0', 'size': 1998}, {'depth': '9283', 'price': '66568.5', 'size': 2764}, {'depth': '12616', 'price': '66568.0', 'size': 3333}, {'depth': '17164', 'price': '66567.5', 'size': 4548}, {'depth': '22849', 'price': '66565.0', 'size': 5685}, {'depth': '23055', 'price': '66561.5', 'size': 206}, {'depth': '3.015E+4', 'price': '66559.5', 'size': 7095}, {'depth': '39692', 'price': '66550.0', 'size': 9542}, {'depth': '51907', 'price': '66536.5', 'size': 12215}, {'depth': '67545', 'price': '66513.0', 'size': 15638}, {'depth': '87565', 'price': '66473.5', 'size': 20020}, {'depth': '113195', 'price': '66411.0', 'size': 25630}, {'depth': '1.132E+5', 'price': '66410.0', 'size': 5}, {'depth': '1.5817E+5', 'price': '66307.5', 'size': 44970}, {'depth': '158171', 'price': '66300.0', 'size': 1}, {'depth': '158176', 'price': '66250.0', 'size': 5}, {'depth': '158196', 'price': '66150.0', 'size': 20}, {'depth': '158198', 'price': '66124.0', 'size': 2}, {'depth': '158204', 'price': '66000.0', 'size': 6}, {'depth': '158729', 'price': '65560.0', 'size': 525}, {'depth': '1.5873E+5', 'price': '65500.0', 'size': 1}, {'depth': '158754', 'price': '65200.0', 'size': 24}, {'depth': '158756', 'price': '65100.0', 'size': 2}, {'depth': '158766', 'price': '65032.0', 'size': 10}, {'depth': '158767', 'price': '65000.0', 'size': 1}, {'depth': '158967', 'price': '64882.0', 'size': 200}, {'depth': '158968', 'price': '64829.5', 'size': 1}, {'depth': '158976', 'price': '64595.0', 'size': 8}, {'depth': '158979', 'price': '64500.0', 'size': 3}, {'depth': '1.5898E+5', 'price': '64485.5', 'size': 1}, {'depth': '1.5918E+5', 'price': '64450.0', 'size': 200}, {'depth': '159182', 'price': '64313.0', 'size': 2}, {'depth': '159212', 'price': '64100.0', 'size': 30}, {'depth': '1.5923E+5', 'price': '64000.0', 'size': 18}, {'depth': '159231', 'price': '63700.0', 'size': 1}, {'depth': '159292', 'price': '63644.0', 'size': 61}, {'depth': '159293', 'price': '63500.0', 'size': 1}, {'depth': '159342', 'price': '63000.0', 'size': 49}, {'depth': '159362', 'price': '62600.0', 'size': 20}, {'depth': '159365', 'price': '62551.0', 'size': 3}, {'depth': '159373', 'price': '62550.0', 'size': 8}, {'depth': '1.5962E+5', 'price': '62500.0', 'size': 247}, {'depth': '1.5972E+5', 'price': '62400.0', 'size': 100}, {'depth': '159721', 'price': '62290.0', 'size': 1}, {'depth': '159722', 'price': '62269.0', 'size': 1}, {'depth': '159815', 'price': '62000.0', 'size': 93}, {'depth': '159818', 'price': '61618.5', 'size': 3}, {'depth': '159826', 'price': '61445.0', 'size': 8}, {'depth': '159828', 'price': '60521.0', 'size': 2}, {'depth': '159908', 'price': '60500.0', 'size': 80}, {'depth': '159909', 'price': '60256.0', 'size': 1}, {'depth': '159944', 'price': '60000.0', 'size': 35}, {'depth': '159958', 'price': '59700.0', 'size': 14}, {'depth': '1.5996E+5', 'price': '59310.5', 'size': 2}, {'depth': '159981', 'price': '59000.0', 'size': 21}, {'depth': '159982', 'price': '58459.0', 'size': 1}, {'depth': '1.5999E+5', 'price': '58400.0', 'size': 8}, {'depth': '159991', 'price': '58213.0', 'size': 1}, {'depth': '159992', 'price': '58206.0', 'size': 1}, {'depth': '159993', 'price': '58200.0', 'size': 1}, {'depth': '159994', 'price': '58175.0', 'size': 1}, {'depth': '160044', 'price': '57500.0', 'size': 50}, {'depth': '160094', 'price': '56500.0', 'size': 50}, {'depth': '160104', 'price': '56101.0', 'size': 10}, {'depth': '160109', 'price': '56000.0', 'size': 5}, {'depth': '1.6011E+5', 'price': '55550.0', 'size': 1}, {'depth': '160111', 'price': '55506.0', 'size': 1}, {'depth': '160336', 'price': '55000.0', 'size': 225}, {'depth': '160436', 'price': '53900.0', 'size': 100}, {'depth': '160437', 'price': '53506.0', 'size': 1}, {'depth': '160438', 'price': '53290.0', 'size': 1}, {'depth': '160439', 'price': '53265.5', 'size': 1}, {'depth': '160442', 'price': '53241.5', 'size': 3}, {'depth': '160445', 'price': '53160.5', 'size': 3}, {'depth': '160446', 'price': '53135.0', 'size': 1}, {'depth': '160447', 'price': '53100.0', 'size': 1}, {'depth': '160448', 'price': '53050.0', 'size': 1}, {'depth': '160466', 'price': '53000.0', 'size': 18}, {'depth': '160467', 'price': '52500.0', 'size': 1}, {'depth': '160469', 'price': '52300.0', 'size': 2}, {'depth': '160479', 'price': '52238.5', 'size': 10}, {'depth': '1.6048E+5', 'price': '52200.0', 'size': 1}, {'depth': '160481', 'price': '52110.0', 'size': 1}, {'depth': '160482', 'price': '52000.0', 'size': 1}, {'depth': '160484', 'price': '51505.5', 'size': 2}, {'depth': '160487', 'price': '51250.0', 'size': 3}, {'depth': '160492', 'price': '50807.0', 'size': 5}, {'depth': '160522', 'price': '50800.0', 'size': 30}, {'depth': '160523', 'price': '50797.5', 'size': 1}, {'depth': '160535', 'price': '50000.0', 'size': 12}, {'depth': '160549', 'price': '49865.0', 'size': 14}, {'depth': '1.6055E+5', 'price': '49800.0', 'size': 1}, {'depth': '160551', 'price': '49648.5', 'size': 1}, {'depth': '1.6059E+5', 'price': '49500.0', 'size': 39}, {'depth': '160608', 'price': '48931.5', 'size': 18}, {'depth': '160616', 'price': '47405.0', 'size': 8}, {'depth': '160716', 'price': '47000.0', 'size': 100}, {'depth': '1.6072E+5', 'price': '44570.0', 'size': 4}, {'depth': '1.6082E+5', 'price': '42702.5', 'size': 100}, {'depth': '160821', 'price': '36554.5', 'size': 1}, {'depth': '160823', 'price': '35554.5', 'size': 2}, {'depth': '1.6083E+5', 'price': '35000.0', 'size': 7}, {'depth': '160833', 'price': '34373.5', 'size': 3}, {'depth': '160834', 'price': '31927.0', 'size': 1}, {'depth': '160835', 'price': '29417.0', 'size': 1}, {'depth': '160838', 'price': '29321.0', 'size': 3}, {'depth': '160839', 'price': '26484.0', 'size': 1}, {'depth': '1.6084E+5', 'price': '24588.5', 'size': 1}, {'depth': '160846', 'price': '19000.0', 'size': 6}, {'depth': '160847', 'price': '18501.0', 'size': 1}, {'depth': '160852', 'price': '15900.0', 'size': 5}, {'depth': '160853', 'price': '12600.0', 'size': 1}, {'depth': '160855', 'price': '11900.0', 'size': 2}, {'depth': '160858', 'price': '11200.0', 'size': 3}, {'depth': '1.6086E+5', 'price': '10000.0', 'size': 2}, {'depth': '160863', 'price': '7500.0', 'size': 3}, {'depth': '160864', 'price': '6868.0', 'size': 1}, {'depth': '160884', 'price': '6850.5', 'size': 20}, {'depth': '160984', 'price': '6342.0', 'size': 100}, {'depth': '160992', 'price': '5800.0', 'size': 8}, {'depth': '160993', 'price': '4500.0', 'size': 1}, {'depth': '161045', 'price': '1671.0', 'size': 52}, {'depth': '161055', 'price': '500.0', 'size': 10}, {'depth': '161075', 'price': '420.0', 'size': 20}, {'depth': '161085', 'price': '180.5', 'size': 10}, {'depth': '161086', 'price': '159.0', 'size': 1}, {'depth': '161159', 'price': '122.0', 'size': 73}, {'depth': '161161', 'price': '111.0', 'size': 2}, {'depth': '162163', 'price': '100.0', 'size': 1002}, {'depth': '172064', 'price': '95.0', 'size': 9901}, {'depth': '180064', 'price': '90.0', 'size': 8000}, {'depth': '180446', 'price': '70.0', 'size': 382}, {'depth': '180705', 'price': '63.0', 'size': 259}, {'depth': '181704', 'price': '62.0', 'size': 999}, {'depth': '235031', 'price': '60.0', 'size': 53327}, {'depth': '266327', 'price': '50.0', 'size': 31296}, {'depth': '2.6786E+5', 'price': '25.0', 'size': 1533}, {'depth': '269762', 'price': '24.5', 'size': 1902}, {'depth': '276071', 'price': '24.0', 'size': 6309}, {'depth': '366071', 'price': '21.5', 'size': 90000}, {'depth': '367191', 'price': '20.0', 'size': 1120}, {'depth': '367201', 'price': '19.0', 'size': 10}, {'depth': '368201', 'price': '18.0', 'size': 1000}, {'depth': '368233', 'price': '16.5', 'size': 32}, {'depth': '368238', 'price': '15.0', 'size': 5}, {'depth': '368251', 'price': '12.5', 'size': 13}, {'depth': '368257', 'price': '12.0', 'size': 6}, {'depth': '368259', 'price': '11.0', 'size': 2}, {'depth': '3.7533E+5', 'price': '10.5', 'size': 7071}, {'depth': '602658', 'price': '10.0', 'size': 227328}, {'depth': '628099', 'price': '9.0', 'size': 25441}, {'depth': '681576', 'price': '8.0', 'size': 53477}, {'depth': '685537', 'price': '7.0', 'size': 3961}, {'depth': '710765', 'price': '6.5', 'size': 25228}, {'depth': '713789', 'price': '6.0', 'size': 3024}, {'depth': '716141', 'price': '5.5', 'size': 2352}, {'depth': '924641', 'price': '5.0', 'size': 208500}, {'depth': '941386', 'price': '4.5', 'size': 16745}, {'depth': '1033039', 'price': '4.0', 'size': 91653}, {'depth': '1033143', 'price': '3.5', 'size': 104}, {'depth': '1234744', 'price': '3.0', 'size': 201601}, {'depth': '1307128', 'price': '2.0', 'size': 72384}, {'depth': '1380222', 'price': '1.5', 'size': 73094}, {'depth': '1782484', 'price': '1.0', 'size': 402262}, {'depth': '2422879', 'price': '0.5', 'size': 640395}]\n"
          ]
        }
      ]
    },
    {
      "cell_type": "code",
      "source": [
        "buydf=pd.DataFrame(buy_values)\n",
        "print(buydf)"
      ],
      "metadata": {
        "colab": {
          "base_uri": "https://localhost:8080/"
        },
        "id": "W4yHRi5iJO6X",
        "outputId": "5cf93e5f-add7-415e-b573-2e3b8016dd0f"
      },
      "execution_count": null,
      "outputs": [
        {
          "output_type": "stream",
          "name": "stdout",
          "text": [
            "       depth    price    size\n",
            "0        254  66573.0     254\n",
            "1        501  66572.5     247\n",
            "2        835  66572.0     334\n",
            "3       1242  66571.5     407\n",
            "4       1778  66571.0     536\n",
            "..       ...      ...     ...\n",
            "168  1234744      3.0  201601\n",
            "169  1307128      2.0   72384\n",
            "170  1380222      1.5   73094\n",
            "171  1782484      1.0  402262\n",
            "172  2422879      0.5  640395\n",
            "\n",
            "[173 rows x 3 columns]\n"
          ]
        }
      ]
    },
    {
      "cell_type": "code",
      "source": [
        "sell_values=x.get('sell')\n",
        "print(sell_values)"
      ],
      "metadata": {
        "colab": {
          "base_uri": "https://localhost:8080/"
        },
        "id": "G9O5eml-L_qm",
        "outputId": "f4ed186a-c4dd-4074-c7aa-464b830a85c9"
      },
      "execution_count": null,
      "outputs": [
        {
          "output_type": "stream",
          "name": "stdout",
          "text": [
            "[{'depth': '8.6E+2', 'price': '66574.0', 'size': 860}, {'depth': '1881', 'price': '66574.5', 'size': 1021}, {'depth': '3115', 'price': '66575.0', 'size': 1234}, {'depth': '4909', 'price': '66575.5', 'size': 1794}, {'depth': '7327', 'price': '66576.0', 'size': 2418}, {'depth': '10365', 'price': '66576.5', 'size': 3038}, {'depth': '13614', 'price': '66577.0', 'size': 3249}, {'depth': '1.894E+4', 'price': '66577.5', 'size': 5326}, {'depth': '24236', 'price': '66578.0', 'size': 5296}, {'depth': '32865', 'price': '66578.5', 'size': 8629}, {'depth': '52585', 'price': '66579.5', 'size': 19720}, {'depth': '63664', 'price': '66581.0', 'size': 11079}, {'depth': '77718', 'price': '66585.5', 'size': 14054}, {'depth': '96013', 'price': '66593.0', 'size': 18295}, {'depth': '119455', 'price': '66604.5', 'size': 23442}, {'depth': '149465', 'price': '66624.0', 'size': 30010}, {'depth': '187884', 'price': '66656.0', 'size': 38419}, {'depth': '187885', 'price': '66701.0', 'size': 1}, {'depth': '237069', 'price': '66708.0', 'size': 49184}, {'depth': '2.3722E+5', 'price': '66750.0', 'size': 151}, {'depth': '300185', 'price': '66793.5', 'size': 62965}, {'depth': '300195', 'price': '66800.0', 'size': 10}, {'depth': '3.002E+5', 'price': '66850.0', 'size': 5}, {'depth': '300209', 'price': '67000.0', 'size': 9}, {'depth': '300263', 'price': '67500.0', 'size': 54}, {'depth': '300285', 'price': '67750.0', 'size': 22}, {'depth': '300324', 'price': '68000.0', 'size': 39}, {'depth': '300326', 'price': '68024.0', 'size': 2}, {'depth': '300327', 'price': '68140.0', 'size': 1}, {'depth': '300328', 'price': '68250.0', 'size': 1}, {'depth': '300329', 'price': '68400.0', 'size': 1}, {'depth': '300331', 'price': '68500.0', 'size': 2}, {'depth': '300332', 'price': '68750.0', 'size': 1}, {'depth': '300334', 'price': '68800.0', 'size': 2}, {'depth': '300336', 'price': '69000.0', 'size': 2}, {'depth': '300338', 'price': '69800.0', 'size': 2}, {'depth': '3.0144E+5', 'price': '70000.0', 'size': 1102}, {'depth': '301441', 'price': '70128.0', 'size': 1}, {'depth': '301442', 'price': '70500.0', 'size': 1}, {'depth': '301462', 'price': '71000.0', 'size': 20}, {'depth': '301465', 'price': '71500.0', 'size': 3}, {'depth': '301466', 'price': '71777.5', 'size': 1}, {'depth': '301468', 'price': '71854.0', 'size': 2}, {'depth': '301469', 'price': '72000.0', 'size': 1}, {'depth': '3.0147E+5', 'price': '72900.0', 'size': 1}, {'depth': '301471', 'price': '72950.5', 'size': 1}, {'depth': '301479', 'price': '73500.0', 'size': 8}, {'depth': '301497', 'price': '75075.0', 'size': 18}, {'depth': '301498', 'price': '79555.5', 'size': 1}, {'depth': '301959', 'price': '98950.0', 'size': 461}]\n"
          ]
        }
      ]
    },
    {
      "cell_type": "code",
      "source": [
        "selldf=pd.DataFrame(sell_values)\n",
        "print(selldf)"
      ],
      "metadata": {
        "colab": {
          "base_uri": "https://localhost:8080/"
        },
        "id": "VTGywq-VMtuE",
        "outputId": "5a9ede05-1c6e-4a66-a488-7532b7a37703"
      },
      "execution_count": null,
      "outputs": [
        {
          "output_type": "stream",
          "name": "stdout",
          "text": [
            "        depth    price   size\n",
            "0      8.6E+2  66574.0    860\n",
            "1        1881  66574.5   1021\n",
            "2        3115  66575.0   1234\n",
            "3        4909  66575.5   1794\n",
            "4        7327  66576.0   2418\n",
            "5       10365  66576.5   3038\n",
            "6       13614  66577.0   3249\n",
            "7    1.894E+4  66577.5   5326\n",
            "8       24236  66578.0   5296\n",
            "9       32865  66578.5   8629\n",
            "10      52585  66579.5  19720\n",
            "11      63664  66581.0  11079\n",
            "12      77718  66585.5  14054\n",
            "13      96013  66593.0  18295\n",
            "14     119455  66604.5  23442\n",
            "15     149465  66624.0  30010\n",
            "16     187884  66656.0  38419\n",
            "17     187885  66701.0      1\n",
            "18     237069  66708.0  49184\n",
            "19  2.3722E+5  66750.0    151\n",
            "20     300185  66793.5  62965\n",
            "21     300195  66800.0     10\n",
            "22   3.002E+5  66850.0      5\n",
            "23     300209  67000.0      9\n",
            "24     300263  67500.0     54\n",
            "25     300285  67750.0     22\n",
            "26     300324  68000.0     39\n",
            "27     300326  68024.0      2\n",
            "28     300327  68140.0      1\n",
            "29     300328  68250.0      1\n",
            "30     300329  68400.0      1\n",
            "31     300331  68500.0      2\n",
            "32     300332  68750.0      1\n",
            "33     300334  68800.0      2\n",
            "34     300336  69000.0      2\n",
            "35     300338  69800.0      2\n",
            "36  3.0144E+5  70000.0   1102\n",
            "37     301441  70128.0      1\n",
            "38     301442  70500.0      1\n",
            "39     301462  71000.0     20\n",
            "40     301465  71500.0      3\n",
            "41     301466  71777.5      1\n",
            "42     301468  71854.0      2\n",
            "43     301469  72000.0      1\n",
            "44  3.0147E+5  72900.0      1\n",
            "45     301471  72950.5      1\n",
            "46     301479  73500.0      8\n",
            "47     301497  75075.0     18\n",
            "48     301498  79555.5      1\n",
            "49     301959  98950.0    461\n"
          ]
        }
      ]
    },
    {
      "cell_type": "code",
      "source": [
        "selldf.rename(columns = {'depth':'selldepth','price':'price', 'size':'sellsize'}, inplace = True)"
      ],
      "metadata": {
        "id": "1CButNifMXtp"
      },
      "execution_count": null,
      "outputs": []
    },
    {
      "cell_type": "code",
      "source": [
        "buydf.rename(columns = {'depth':'buydepth','price': 'price', 'size':'buysize'}, inplace = True)"
      ],
      "metadata": {
        "id": "9G1GNaJrNLcT"
      },
      "execution_count": null,
      "outputs": []
    },
    {
      "cell_type": "code",
      "source": [
        "df = pd.merge(buydf, selldf, on='price', how='outer')\n",
        "print(df)"
      ],
      "metadata": {
        "colab": {
          "base_uri": "https://localhost:8080/"
        },
        "id": "b3wIVdPTNUOv",
        "outputId": "51bb0fb6-ed1c-4132-9bf0-add464664019"
      },
      "execution_count": null,
      "outputs": [
        {
          "output_type": "stream",
          "name": "stdout",
          "text": [
            "    buydepth    price  buysize selldepth  sellsize\n",
            "0        254  66573.0    254.0       NaN       NaN\n",
            "1        501  66572.5    247.0       NaN       NaN\n",
            "2        835  66572.0    334.0       NaN       NaN\n",
            "3       1242  66571.5    407.0       NaN       NaN\n",
            "4       1778  66571.0    536.0       NaN       NaN\n",
            "..       ...      ...      ...       ...       ...\n",
            "218      NaN  72950.5      NaN    301471       1.0\n",
            "219      NaN  73500.0      NaN    301479       8.0\n",
            "220      NaN  75075.0      NaN    301497      18.0\n",
            "221      NaN  79555.5      NaN    301498       1.0\n",
            "222      NaN  98950.0      NaN    301959     461.0\n",
            "\n",
            "[223 rows x 5 columns]\n"
          ]
        }
      ]
    },
    {
      "cell_type": "code",
      "source": [
        "print(df['buysize'].max())\n"
      ],
      "metadata": {
        "colab": {
          "base_uri": "https://localhost:8080/"
        },
        "id": "oJa9WEZYQopM",
        "outputId": "04770074-ef26-4080-b4b3-04893ce42e61"
      },
      "execution_count": null,
      "outputs": [
        {
          "output_type": "stream",
          "name": "stdout",
          "text": [
            "640395.0\n"
          ]
        }
      ]
    }
  ]
}